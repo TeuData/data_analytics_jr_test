{
 "cells": [
  {
   "cell_type": "markdown",
   "metadata": {},
   "source": [
    "## ROBO QUE DESCOMPACTA OS ARQUIVOS .ZIP"
   ]
  },
  {
   "cell_type": "code",
   "execution_count": null,
   "metadata": {},
   "outputs": [],
   "source": [
    "\n",
    "import os\n",
    "import zipfile\n",
    "import pandas as pd\n",
    "from pathlib import Path\n",
    "\n",
    "\n",
    "caminho = Path(os.getcwd())\n",
    "\n",
    "data_folder = caminho / \"Data\"\n",
    "\n",
    "arquivos_escolas = []\n",
    "arquivos_perfil_educandos = []\n",
    "\n",
    "for pasta in data_folder.iterdir():\n",
    "    if pasta.is_dir():\n",
    "        if pasta.name == \"Escolas\":\n",
    "            for arquivo in pasta.iterdir():\n",
    "                if arquivo.name.endswith(\".csv\") and not arquivo.name.startswith(\"dicionario\"):\n",
    "                    df = pd.read_csv(arquivo, encoding=\"latin1\", sep=\";\")\n",
    "                    arquivos_escolas.append(df)\n",
    "        elif pasta.name == \"Perfil dos educandos\":\n",
    "            for arquivo in pasta.iterdir():\n",
    "                if arquivo.name.endswith(\"csv\") and not arquivo.name.startswith(\"dicionario\"):\n",
    "                    df = pd.read_csv(arquivo, encoding=\"latin1\", sep=\";\")\n",
    "                    arquivos_perfil_educandos.append(df)\n",
    "        else:\n",
    "            print(\"Esta iteração não retornou pastas válidas\")\n",
    "\n",
    "df_escolas = pd.concat(arquivos_escolas, ignore_index=True)\n",
    "df_perfil_educandos = pd.concat(arquivos_perfil_educandos, ignore_index=True)\n",
    "df_escolas.to_excel(\"escolas.xlsx\", index=False)\n",
    "df_perfil_educandos = df_perfil_educandos.sample(n=1000000)\n",
    "df_perfil_educandos.to_excel(\"perfil_educandos.xlsx\", index=False)"
   ]
  },
  {
   "cell_type": "markdown",
   "metadata": {},
   "source": [
    "## TRATAMENTO DA BASE ESCOLAS"
   ]
  },
  {
   "cell_type": "code",
   "execution_count": 8,
   "metadata": {},
   "outputs": [
    {
     "name": "stdout",
     "output_type": "stream",
     "text": [
      "Base tratada e salva como 'escolas_tratadas_novo.xlsx'\n"
     ]
    }
   ],
   "source": [
    "import pandas as pd\n",
    "import os\n",
    "\n",
    "file_path = \"escolas.xlsx\" \n",
    "df = pd.read_excel(file_path, sheet_name=\"Sheet1\")\n",
    "\n",
    "columns_to_keep = df.columns[:34] \n",
    "df_selected = df[columns_to_keep]\n",
    "\n",
    "df_selected = df_selected.dropna(how='all')\n",
    "\n",
    "df_selected = df_selected[df_selected.iloc[:, 0].notna()]\n",
    "\n",
    "df_selected.reset_index(drop=True, inplace=True)\n",
    "\n",
    "output_file = \"escolas_tratadas.xlsx\"\n",
    "\n",
    "\n",
    "if os.path.exists(output_file):\n",
    "    output_file = \"escolas_tratadas_novo.xlsx\"\n",
    "\n",
    "\n",
    "df_selected.to_excel(output_file, index=False)\n",
    "\n",
    "print(f\"Base tratada e salva como '{output_file}'\")"
   ]
  },
  {
   "cell_type": "markdown",
   "metadata": {},
   "source": [
    "## CONECTANDO AS BASES NO SQLITE"
   ]
  },
  {
   "cell_type": "code",
   "execution_count": 9,
   "metadata": {},
   "outputs": [
    {
     "name": "stdout",
     "output_type": "stream",
     "text": [
      "lendo df_escolas\n",
      "lendo df_educandos\n"
     ]
    }
   ],
   "source": [
    "import sqlite3\n",
    "import pandas as pd\n",
    "\n",
    "conexao = sqlite3.connect(\"Case_USE.db\")\n",
    "\n",
    "cursor = conexao.cursor()\n",
    "\n",
    "print('lendo df_escolas')\n",
    "df_escolas = pd.read_excel(\"escolas_tratadas.xlsx\")\n",
    "print('lendo df_educandos')\n",
    "df_educandos = pd.read_excel(\"educandos_reduzida.xlsx\")\n"
   ]
  },
  {
   "cell_type": "markdown",
   "metadata": {},
   "source": [
    "## CONEXÃO BANCO DE DADOS"
   ]
  },
  {
   "cell_type": "code",
   "execution_count": 10,
   "metadata": {},
   "outputs": [],
   "source": [
    "# Conectar ao banco de dados SQLite\n",
    "conn = sqlite3.connect(\"Case_USE.db\")\n",
    "cursor = conn.cursor()\n",
    "\n",
    "# Criar a tabela com base nas colunas do Excel\n",
    "colunas_escolas = \", \".join([f\"{col} TEXT\" for col in df_escolas.columns])\n",
    "colunas_educandos = \", \".join([f\"{col} TEXT\" for col in df_educandos.columns])"
   ]
  },
  {
   "cell_type": "code",
   "execution_count": 11,
   "metadata": {},
   "outputs": [
    {
     "data": {
      "text/plain": [
       "Index(['DRE', 'CODESC', 'TIPOESC', 'NOMESC', 'DISTRITO', 'SETEDU', 'ANO',\n",
       "       'REDE', 'MODAL', 'MODALID', 'SERIEV', 'DESCSERIE', 'PERIODO', 'TURNO',\n",
       "       'DESCTURNO', 'SEXO', 'IDADE', 'NEE', 'RACA', 'QTDE', 'DATABASE',\n",
       "       'ï»¿dre', 'codes', 'rede', 'modal', 'descserie', 'periodo', 'turno',\n",
       "       'descturno', 'sexo', 'idade', 'nee', 'raca', 'qtd', 'database', 'dre',\n",
       "       'SETOR', 'Qtde'],\n",
       "      dtype='object')"
      ]
     },
     "execution_count": 11,
     "metadata": {},
     "output_type": "execute_result"
    }
   ],
   "source": [
    "import pandas as pd\n",
    "df = pd.read_excel(\"educandos_reduzida.xlsx\")\n",
    "df.columns"
   ]
  },
  {
   "cell_type": "markdown",
   "metadata": {},
   "source": [
    "## TRATAMENTO BASE PERFIL DOS EDUCANDOS"
   ]
  },
  {
   "cell_type": "code",
   "execution_count": 12,
   "metadata": {},
   "outputs": [],
   "source": [
    "df = pd.read_excel('educandos_reduzida.xlsx')\n",
    "df.drop(['MODALID','SERIEV'],axis=1)\n",
    "\n",
    "colunas = df.columns\n",
    "\n",
    "df = pd.DataFrame(columns=colunas)\n",
    "\n",
    "\n",
    "df.columns = df.columns.str.lower()  # Convertendo para minúsculas\n",
    "df.columns = df.columns.str.replace('ï»¿dre', 'dre2')  # Removendo caracteres especiais\n",
    "\n",
    "\n",
    "colunas_para_unificar = {\n",
    "    'DRE': ['DRE','dre', 'dre2' ],\n",
    "    'CODESC': ['CODESC', 'codes'],\n",
    "    'TIPOESC': ['TIPOESC', 'tipoesc'],\n",
    "    'NOMESC': ['NOMESC','nomesc'],\n",
    "    'DISTRITO': ['DISTRITO', 'tiposc'],\n",
    "    'SETEDU': ['SETEDU', 'setor'],\n",
    "    'ANO': ['ANO','ano'],\n",
    "    'REDE': ['REDE','rede'],\n",
    "    'MODAL': ['MODAL', 'modal'],\n",
    "    'modalid': ['modalid'],\n",
    "    'seriev': ['seriev'],\n",
    "    'DESCSERIE': ['DESCSERIE','descserie'],\n",
    "    'PERIODO': ['PERIODO','periodo'],\n",
    "    'TURNO': ['TURNO','turno'],\n",
    "    'DESCTURNO': ['DESCTURNO', 'descturno'],\n",
    "    'SEXO': ['SEXO','sexo'],\n",
    "    'IDADE': ['IDADE', 'idade'],\n",
    "    'NEE': ['NEE','nee'],\n",
    "    'RACA': ['RACA','raca'],\n",
    "    'QTDE': ['QTDE', 'qtd', 'Qtde'],\n",
    "    'DATABASE': ['DATABASE','database']\n",
    "}"
   ]
  },
  {
   "cell_type": "code",
   "execution_count": null,
   "metadata": {},
   "outputs": [],
   "source": [
    "df = pd.read_excel('educandos_reduzida.xlsx')\n",
    "\n",
    "df['QTDE'] = df[['QTDE', 'qtd', 'Qtde']].sum(axis=1, skipna=True)\n",
    "\n",
    "\n",
    "df['DRE'] = df[['DRE', 'dre']].bfill(axis=1).iloc[:, 0]  # Preencher de trás pra frente\n",
    "df['NOMESC'] = df[['NOMESC', 'nomesc']].bfill(axis=1).iloc[:, 0]\n",
    "df['DISTRITO'] = df[['DISTRITO', 'distrito']].bfill(axis=1).iloc[:, 0]\n",
    "df['SETOR'] = df[['SETOR', 'setor']].bfill(axis=1).iloc[:, 0]\n",
    "df['SETOR'] = df[['SETOR', 'SETEDU']].bfill(axis=1).iloc[:, 0]\n",
    "df['ANO'] = df[['ANO', 'ano']].bfill(axis=1).iloc[:, 0]\n",
    "df['REDE'] = df[['REDE', 'rede']].bfill(axis=1).iloc[:, 0]\n",
    "df['MODAL'] = df[['MODAL', 'modal']].bfill(axis=1).iloc[:, 0]\n",
    "df['MODAL'] = df[['MODAL', 'MODALID']].bfill(axis=1).iloc[:, 0]\n",
    "df['DESCSERIE'] = df[['DESCSERIE', 'descserie']].bfill(axis=1).iloc[:, 0]\n",
    "df['DESCSERIE'] = df[['DESCSERIE', 'SERIEV']].bfill(axis=1).iloc[:, 0]\n",
    "df['PERIODO'] = df[['PERIODO', 'periodo']].bfill(axis=1).iloc[:, 0]\n",
    "df['TURNO'] = df[['TURNO', 'turno']].bfill(axis=1).iloc[:, 0]\n",
    "df['SEXO'] = df[['SEXO', 'sexo']].bfill(axis=1).iloc[:, 0]\n",
    "df['IDADE'] = df[['IDADE', 'idade']].bfill(axis=1).iloc[:, 0]\n",
    "df['NEE'] = df[['NEE', 'nee']].bfill(axis=1).iloc[:, 0]\n",
    "df['RACA'] = df[['RACA', 'raca']].bfill(axis=1).iloc[:, 0]\n",
    "df['CODESC'] = df[['CODESC', 'codes']].bfill(axis=1).iloc[:, 0]\n",
    "df['TIPOESC'] = df[['TIPOESC', 'tipoesc']].bfill(axis=1).iloc[:, 0]\n",
    "df['DESCTURNO'] = df[['DESCTURNO', 'periodo']].bfill(axis=1).iloc[:, 0]\n",
    "df['DATABASE'] = df[['DATABASE', 'database']].bfill(axis=1).iloc[:, 0]\n",
    "\n",
    "\n",
    "\n",
    "columns_to_drop = ['qtd', 'dre', 'nomesc', 'distrito', 'setor', 'ano', 'rede', 'modal', \n",
    "                   'descserie', 'periodo', 'turno', 'sexo', 'idade', 'nee', 'raca', 'Qtde','MODALID', 'ï»¿dre', 'codes',\n",
    "       'tipoesc', 'descturno', 'database','SERIEV','SETEDU']\n",
    "df = df.drop(columns=columns_to_drop)\n",
    "\n",
    "df['DRE'] = df['DRE'].str.strip()\n",
    "df['RACA'] = df['RACA'].fillna('NAO DECLARADA')\n",
    "df['PERIODO'] = df['PERIODO'].replace('Diurno','DIURNO')\n",
    "df['PERIODO'] = df['PERIODO'].replace('Noturno','NOTURNO')\n",
    "df['DESCTURNO'] = df['DESCTURNO'].replace('Tarde','TARDE')\n",
    "df['DESCTURNO'] = df['DESCTURNO'].replace('Manhã','MANHA')\n",
    "df['DESCTURNO'] = df['DESCTURNO'].replace('Integral','INTEGRAL')\n",
    "df['DESCTURNO'] = df['DESCTURNO'].replace('Noite','NOITE')\n",
    "df['DESCTURNO'] = df['DESCTURNO'].replace('Vespertino','VESPERTINO')\n",
    "df['DESCTURNO'] = df['DESCTURNO'].replace('Intermediário','INTERMEDIARIO')\n",
    "df['RACA'] = df['RACA'].replace('NÃO DECLARADA','NAO INFORMADA')\n",
    "df['RACA'] = df['RACA'].replace('RECUSOU INFORMA','NAO INFORMADA')\n",
    "df['RACA'] = df['RACA'].replace('RECUSOU INFORMAR','NAO INFORMADA')\n",
    "df['DATABASE'] = df['DATABASE'].replace('30/12/2022 00:00','30/12/2022')\n",
    "df['DATABASE'] = df['DATABASE'].replace('28-dez-17','28/12/2017')\n",
    "df['DATABASE'] = df['DATABASE'].replace('25/12/2023 00:00','25/12/2023')\n",
    "\n",
    "\n",
    "\n",
    "\n",
    "\n",
    "\n",
    "df.to_excel(\"arquivo_integrado.xlsx\", index=False)\n",
    "\n",
    "print(\"As colunas repetidas foram integradas com sucesso!\")"
   ]
  },
  {
   "cell_type": "markdown",
   "metadata": {},
   "source": [
    "## CRIAÇÃO DAS TABELAS NO SQL"
   ]
  },
  {
   "cell_type": "code",
   "execution_count": null,
   "metadata": {},
   "outputs": [],
   "source": [
    "cursor.execute(f\"CREATE TABLE IF NOT EXISTS escolas ({colunas_escolas})\")\n",
    "cursor.execute(f\"CREATE TABLE IF NOT EXISTS educandos ({colunas_educandos})\")\n",
    "\n",
    "\n",
    "# Inserir os dados na tabela\n",
    "print(\"escrevendo dados no df_escolas\")\n",
    "df_escolas.to_sql(\"escolas\", conn, if_exists=\"replace\", index=False)\n",
    "print('escrevendo dados no df_educandos')\n",
    "df_educandos.to_sql(\"educandos\", conn, if_exists=\"replace\", index=False)\n",
    "\n",
    "# Fechar a conexão\n",
    "conn.close()\n",
    "\n",
    "print(\"Dados importados com sucesso!\")"
   ]
  },
  {
   "cell_type": "markdown",
   "metadata": {},
   "source": [
    "## CONSULTAS"
   ]
  },
  {
   "cell_type": "code",
   "execution_count": null,
   "metadata": {},
   "outputs": [],
   "source": [
    "import sqlite3\n",
    "import pandas as pd\n",
    "import matplotlib.pyplot as plt\n",
    "\n",
    "def conectar_banco(db_name=\"educacao.db\"):\n",
    "    conexao = sqlite3.connect(db_name)\n",
    "    cursor = conexao.cursor()\n",
    "    return conexao, cursor\n",
    "\n",
    "def query(sql, cursor):\n",
    "    cursor.execute(sql)\n",
    "    result = cursor.fetchall()\n",
    "    return result\n",
    "\n",
    "def criar_tabelas(conexao, cursor):\n",
    "    cursor.execute('''CREATE TABLE IF NOT EXISTS escolas (\n",
    "                        CODESC INTEGER PRIMARY KEY,\n",
    "                        NOMESC TEXT,\n",
    "                        Endereco TEXT,\n",
    "                        Latitude REAL,\n",
    "                        Longitude REAL,\n",
    "                        CEP TEXT)''')\n",
    "    \n",
    "    cursor.execute('''CREATE TABLE IF NOT EXISTS educandos (\n",
    "                        ID INTEGER PRIMARY KEY AUTOINCREMENT,\n",
    "                        TURNO TEXT,\n",
    "                        SEXO TEXT,\n",
    "                        IDADE INTEGER,\n",
    "                        NEE TEXT,\n",
    "                        RACA TEXT,\n",
    "                        CODESC INTEGER,\n",
    "                        Distrito TEXT,\n",
    "                        FOREIGN KEY (CODESC) REFERENCES escolas (CODESC))''')\n",
    "    conexao.commit()\n",
    "\n",
    "def gerar_graficos(df, titulo, tipo='bar'):\n",
    "    plt.figure(figsize=(10, 5))\n",
    "    if tipo == 'bar':\n",
    "        df.plot(kind='bar', legend=False)\n",
    "    elif tipo == 'pie':\n",
    "        df.plot(kind='pie', autopct='%1.1f%%', legend=False)\n",
    "    plt.title(titulo)\n",
    "    plt.show()"
   ]
  },
  {
   "cell_type": "markdown",
   "metadata": {},
   "source": [
    "## QUAL A PROPORÇÃO ENTRE ALUNOS PELA PERSPÉCTIVA DOS PERFIS."
   ]
  },
  {
   "cell_type": "code",
   "execution_count": null,
   "metadata": {},
   "outputs": [],
   "source": [
    "def proporcao_alunos_por_perfil(cursor):\n",
    "    consultas = {\n",
    "        \"Turno\": \"SELECT TURNO, COUNT(*) * 100.0 / (SELECT COUNT(*) FROM educandos) FROM educandos GROUP BY TURNO\",\n",
    "        \"Sexo\": \"SELECT SEXO, COUNT(*) * 100.0 / (SELECT COUNT(*) FROM educandos) FROM educandos GROUP BY SEXO\",\n",
    "        \"Idade\": \"SELECT IDADE, COUNT(*) * 100.0 / (SELECT COUNT(*) FROM educandos) FROM educandos GROUP BY IDADE\",\n",
    "        \"NEE\": \"SELECT NEE, COUNT(*) * 100.0 / (SELECT COUNT(*) FROM educandos) FROM educandos GROUP BY NEE\",\n",
    "        \"Raça\": \"SELECT RACA, COUNT(*) * 100.0 / (SELECT COUNT(*) FROM educandos) FROM educandos GROUP BY RACA\",\n",
    "    }\n",
    "    for key, sql in consultas.items():\n",
    "        result = query(sql, cursor)\n",
    "        df = pd.DataFrame(result, columns=[key, 'Proporcao']).set_index(key)\n",
    "        gerar_graficos(df, f\"Proporção de alunos por {key}\", tipo='pie' if key in ['Sexo', 'Raça', 'NEE'] else 'bar')\n",
    "\n"
   ]
  },
  {
   "cell_type": "markdown",
   "metadata": {},
   "source": [
    "## QUAL A DENSIDADE ENTRE AS PERFIS E ESCOLAS"
   ]
  },
  {
   "cell_type": "code",
   "execution_count": null,
   "metadata": {},
   "outputs": [],
   "source": [
    "def densidade_alunos_por_escola(cursor):\n",
    "    sql = '''SELECT e.NOMESC, COUNT(ed.ID) AS Total_Alunos\n",
    "             FROM escolas e\n",
    "             LEFT JOIN educandos ed ON e.CODESC = ed.CODESC\n",
    "             GROUP BY e.NOMESC'''\n",
    "    result = query(sql, cursor)\n",
    "    df = pd.DataFrame(result, columns=['Escola', 'Total Alunos']).set_index('Escola')\n",
    "    gerar_graficos(df, \"Densidade de alunos por escola\")"
   ]
  },
  {
   "cell_type": "markdown",
   "metadata": {},
   "source": []
  },
  {
   "cell_type": "markdown",
   "metadata": {},
   "source": [
    "## QUAL A PROPOÇÃO DE ALUNOS POR DISTRITO"
   ]
  },
  {
   "cell_type": "code",
   "execution_count": null,
   "metadata": {},
   "outputs": [],
   "source": [
    "def proporcao_alunos_por_distrito(cursor):\n",
    "    sql = '''SELECT Distrito, COUNT(*) * 100.0 / (SELECT COUNT(*) FROM educandos) AS Proporcao\n",
    "             FROM educandos\n",
    "             GROUP BY Distrito'''\n",
    "    result = query(sql, cursor)\n",
    "    df = pd.DataFrame(result, columns=['Distrito', 'Proporcao']).set_index('Distrito')\n",
    "    gerar_graficos(df, \"Proporção de alunos por distrito\")\n",
    "\n",
    "def main():\n",
    "    conexao, cursor = conectar_banco()\n",
    "    criar_tabelas(conexao, cursor)\n",
    "    \n",
    "    proporcao_alunos_por_perfil(cursor)\n",
    "    densidade_alunos_por_escola(cursor)\n",
    "    proporcao_alunos_por_distrito(cursor)\n",
    "    \n",
    "    conexao.close()\n",
    "\n",
    "if __name__ == \"__main__\":\n",
    "    main()"
   ]
  }
 ],
 "metadata": {
  "kernelspec": {
   "display_name": "Python 3",
   "language": "python",
   "name": "python3"
  },
  "language_info": {
   "codemirror_mode": {
    "name": "ipython",
    "version": 3
   },
   "file_extension": ".py",
   "mimetype": "text/x-python",
   "name": "python",
   "nbconvert_exporter": "python",
   "pygments_lexer": "ipython3",
   "version": "3.13.1"
  }
 },
 "nbformat": 4,
 "nbformat_minor": 2
}
